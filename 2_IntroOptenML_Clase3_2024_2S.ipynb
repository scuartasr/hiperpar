{
  "cells": [
    {
      "cell_type": "markdown",
      "metadata": {
        "id": "RVLYVoQvQ0Rm"
      },
      "source": [
        "<table>\n",
        "    <tr>\n",
        "        <td style=\"text-align:left\">\n",
        "            <img src=\"https://encrypted-tbn0.gstatic.com/images?q=tbn:ANd9GcR9ItLTT_F-3Q30cu7ZCCoKmuFGBt22pe7pNA\" alt=\"Logo Universidad\" width=\"300\"/>\n",
        "        </td>\n",
        "        <td>\n",
        "             Departamento de Ciencias de la Computación y de la Decisión<br>\n",
        "            Facultad de Minas<br>\n",
        "            Universidad Nacional de Colombia<br>\n",
        "            Optimizacion e IA 2024-2S<br><br>\n",
        "            Docente: Maria Constanza Torres Madronero<br>\n",
        "            <br>\n",
        "            Contribuciones a la guia por: <br>\n",
        "            - Deimer Miranda Montoya (2023)<br>\n",
        "            - Luis Fernando Becerra Monsalve (2024)\n",
        "        </td>    \n",
        "    </tr>\n",
        "</table>"
      ]
    },
    {
      "cell_type": "markdown",
      "metadata": {
        "id": "Jz6DFPE8Q0Rn"
      },
      "source": [
        "# **Clasificacion supervisada**"
      ]
    },
    {
      "cell_type": "markdown",
      "metadata": {
        "id": "5otWvp5hQ0Ro"
      },
      "source": [
        "## <span style = 'color: red'>A.</span> Preparación de los datos\n",
        "\n"
      ]
    },
    {
      "cell_type": "markdown",
      "metadata": {
        "id": "ekaMEqDsQ0Ro"
      },
      "source": [
        "Scikit-learn, también conocida como sklearn, es una librería gratuita de aprendizaje de máquina para Python. Desarrollada inicialmente por David Cournapeau en Google Summer en 2007. Incluye diferentes métodos de clasificación, regresión, y clustering incluyendo máquinas de soporte vectorial (SVM), bosques aleatorios (RF), K-means y DBSCAN.  \n",
        "\n",
        "Toda la documentación sobre esta librería puede ser consultada en el siguiente [aquí.](https://scikit-learn.org/stable/ )"
      ]
    },
    {
      "cell_type": "code",
      "execution_count": 1,
      "metadata": {
        "id": "LDp4bA8GQ0Ro"
      },
      "outputs": [],
      "source": [
        "#La libreria scikit-learn - incluida en colab - incluye\n",
        "#varios datasets para aprender a usar diferentes algoritmos de aprendizaje\n",
        "#de maquinas. Vamos a usar en esta clase el dataset Iris\n",
        "from sklearn import datasets\n",
        "#Iris: incluye 150 muestras (50 por clase) con 4 atributos\n",
        "#Los datos incluidos en sklearn ya se encuentran organizados y limpios\n",
        "iris = datasets.load_iris()"
      ]
    },
    {
      "cell_type": "code",
      "execution_count": 2,
      "metadata": {
        "id": "rOXN6C5Lg6Kh"
      },
      "outputs": [
        {
          "name": "stdout",
          "output_type": "stream",
          "text": [
            "['setosa' 'versicolor' 'virginica']\n",
            "['sepal length (cm)', 'sepal width (cm)', 'petal length (cm)', 'petal width (cm)']\n"
          ]
        }
      ],
      "source": [
        "#Las clases incluidas en Iris corresponden a tres tipos de lirios\n",
        "print(iris.target_names)\n",
        "\n",
        "#Las caracteristicas estan asociadas al largo y ancho de los petalos y el\n",
        "#sépalo\n",
        "print(iris.feature_names)\n"
      ]
    },
    {
      "cell_type": "code",
      "execution_count": 3,
      "metadata": {
        "id": "xLG4yHYuhEjK"
      },
      "outputs": [
        {
          "name": "stdout",
          "output_type": "stream",
          "text": [
            "[[5.1 3.5 1.4 0.2]\n",
            " [4.9 3.  1.4 0.2]\n",
            " [4.7 3.2 1.3 0.2]\n",
            " [4.6 3.1 1.5 0.2]\n",
            " [5.  3.6 1.4 0.2]]\n",
            "[0 0 0 0 0 0 0 0 0 0 0 0 0 0 0 0 0 0 0 0 0 0 0 0 0 0 0 0 0 0 0 0 0 0 0 0 0\n",
            " 0 0 0 0 0 0 0 0 0 0 0 0 0 1 1 1 1 1 1 1 1 1 1 1 1 1 1 1 1 1 1 1 1 1 1 1 1\n",
            " 1 1 1 1 1 1 1 1 1 1 1 1 1 1 1 1 1 1 1 1 1 1 1 1 1 1 2 2 2 2 2 2 2 2 2 2 2\n",
            " 2 2 2 2 2 2 2 2 2 2 2 2 2 2 2 2 2 2 2 2 2 2 2 2 2 2 2 2 2 2 2 2 2 2 2 2 2\n",
            " 2 2]\n"
          ]
        }
      ],
      "source": [
        "#Vamos a revisar los primeros 5 elementos del conjunto de datos\n",
        "print(iris.data[0:5])\n",
        "\n",
        "#y revisemos las etiquetas (0:setosa, 1:versicolor, 2:virginica)\n",
        "print(iris.target)"
      ]
    },
    {
      "cell_type": "markdown",
      "metadata": {
        "id": "QStslwsN_l46"
      },
      "source": [
        "Para la manipulación de los datos vamos a emplear los DataFrames de Pandas.\n",
        "Pandas es una de las principales librerías de Python. Las estructuras más utilizadas en esta librería son las Series y los DataFrames. Las Series son objetos unidimensionales y los DataFrames son paneles bidimensionales compuestos por filas y columnas. El formato de los DataFrames puede compararse con los diccionarios de Python: las claves son los nombres de las columnas y los valores son las Series. Su estructura puede considerarse similar a la de una hoja de cálculo de Excel.\n",
        "\n",
        "Mayor información sobre la librería Pandas y uso de los DataFrame puede encontrarse en el libro de referencia del curso.\n"
      ]
    },
    {
      "cell_type": "code",
      "execution_count": 5,
      "metadata": {
        "id": "gsOmS84MimTx"
      },
      "outputs": [
        {
          "data": {
            "text/html": [
              "<div>\n",
              "<style scoped>\n",
              "    .dataframe tbody tr th:only-of-type {\n",
              "        vertical-align: middle;\n",
              "    }\n",
              "\n",
              "    .dataframe tbody tr th {\n",
              "        vertical-align: top;\n",
              "    }\n",
              "\n",
              "    .dataframe thead th {\n",
              "        text-align: right;\n",
              "    }\n",
              "</style>\n",
              "<table border=\"1\" class=\"dataframe\">\n",
              "  <thead>\n",
              "    <tr style=\"text-align: right;\">\n",
              "      <th></th>\n",
              "      <th>sepal length</th>\n",
              "      <th>sepal width</th>\n",
              "      <th>petal length</th>\n",
              "      <th>petal width</th>\n",
              "      <th>species</th>\n",
              "    </tr>\n",
              "  </thead>\n",
              "  <tbody>\n",
              "    <tr>\n",
              "      <th>0</th>\n",
              "      <td>5.1</td>\n",
              "      <td>3.5</td>\n",
              "      <td>1.4</td>\n",
              "      <td>0.2</td>\n",
              "      <td>0</td>\n",
              "    </tr>\n",
              "    <tr>\n",
              "      <th>1</th>\n",
              "      <td>4.9</td>\n",
              "      <td>3.0</td>\n",
              "      <td>1.4</td>\n",
              "      <td>0.2</td>\n",
              "      <td>0</td>\n",
              "    </tr>\n",
              "    <tr>\n",
              "      <th>2</th>\n",
              "      <td>4.7</td>\n",
              "      <td>3.2</td>\n",
              "      <td>1.3</td>\n",
              "      <td>0.2</td>\n",
              "      <td>0</td>\n",
              "    </tr>\n",
              "    <tr>\n",
              "      <th>3</th>\n",
              "      <td>4.6</td>\n",
              "      <td>3.1</td>\n",
              "      <td>1.5</td>\n",
              "      <td>0.2</td>\n",
              "      <td>0</td>\n",
              "    </tr>\n",
              "    <tr>\n",
              "      <th>4</th>\n",
              "      <td>5.0</td>\n",
              "      <td>3.6</td>\n",
              "      <td>1.4</td>\n",
              "      <td>0.2</td>\n",
              "      <td>0</td>\n",
              "    </tr>\n",
              "  </tbody>\n",
              "</table>\n",
              "</div>"
            ],
            "text/plain": [
              "   sepal length  sepal width  petal length  petal width  species\n",
              "0           5.1          3.5           1.4          0.2        0\n",
              "1           4.9          3.0           1.4          0.2        0\n",
              "2           4.7          3.2           1.3          0.2        0\n",
              "3           4.6          3.1           1.5          0.2        0\n",
              "4           5.0          3.6           1.4          0.2        0"
            ]
          },
          "execution_count": 5,
          "metadata": {},
          "output_type": "execute_result"
        }
      ],
      "source": [
        "# Primero, importamos la librería\n",
        "import pandas as pd\n",
        "\n",
        "# Organizamos los datos en un DataFrame\n",
        "data = pd.DataFrame(\n",
        "    {\n",
        "        'sepal length': iris.data[:, 0],\n",
        "        'sepal width':  iris.data[:, 1],\n",
        "        'petal length': iris.data[:, 2],\n",
        "        'petal width':  iris.data[:, 3],\n",
        "        'species':      iris.target\n",
        "    }\n",
        ")\n",
        "\n",
        "data.head()"
      ]
    },
    {
      "cell_type": "markdown",
      "metadata": {},
      "source": [
        "Se va a emplear el método `train_test_split` de `sklearn` para hacer la separación de los datos en un par de conjuntos de entrenamiento y validación de manera aleatoria. Es importante tener en cuenta que para ello se usan números *pseudoaleatorios*, por lo que vale la pena seleccionar una *semilla* (*seed* en inglés) para asegurar la repitibilidad de los datos."
      ]
    },
    {
      "cell_type": "code",
      "execution_count": null,
      "metadata": {
        "id": "iDq3iGh_jeUW"
      },
      "outputs": [],
      "source": [
        "# Vamos a dividir los datos entre las muestras de entrenamiento y prueba\n",
        "from sklearn.model_selection import train_test_split\n",
        "\n",
        "# Muestras\n",
        "X = data[['sepal length', 'sepal width', 'petal length', 'petal width', ]]\n",
        "\n",
        "# Etiquetas\n",
        "y = data['species']\n",
        "\n",
        "# Seleccionamos 70% de muestras para entrenamiento y 30% para prueba\n",
        "X_tr, X_ts, y_tr, y_ts = train_test_split(X, y, test_size=0.3, random_state=2342, )"
      ]
    },
    {
      "cell_type": "markdown",
      "metadata": {
        "id": "2cgciCqHBDMO"
      },
      "source": [
        "## <span style = 'color: red'>B.</span> Bosques aleatorios\n",
        "\n",
        "***Random forest*** (bosque aleatorio) es un algoritmo de aprendizaje de máquina, introducido por Leo Breiman y Adele Cutler, que combina los resultados de varios árboles de decisión para llegar a un único resultado.\n",
        "\n",
        "*   Para conocer más sobre arboles de decisión visita https://www.ibm.com/topics/decision-trees\n",
        "*   En este enlace mayor documentación sobre Random ForestÑ https://www.stat.berkeley.edu/~breiman/RandomForests/cc_home.htm\n",
        "\n"
      ]
    },
    {
      "cell_type": "code",
      "execution_count": 8,
      "metadata": {
        "id": "xwLQR5VmkKqF"
      },
      "outputs": [],
      "source": [
        "# Importamos el modelo de bosques aleatorios para su entrenamiento\n",
        "from sklearn.ensemble import RandomForestClassifier\n",
        "\n",
        "# Entrenamos el modelo con parametros fijos\n",
        "RFclas = RandomForestClassifier(\n",
        "    n_estimators=10,\n",
        "    criterion='entropy',\n",
        "    max_depth=2,\n",
        "    random_state=0,\n",
        ")\n",
        "RFclas.fit(X_tr, y_tr)\n",
        "\n",
        "# Una vez entrenado el modelo, lo aplicamos a los datos de prueba\n",
        "y_pred = RFclas.predict(X_ts)"
      ]
    },
    {
      "cell_type": "code",
      "execution_count": 9,
      "metadata": {
        "id": "oPBzBOo2k5Id"
      },
      "outputs": [
        {
          "name": "stdout",
          "output_type": "stream",
          "text": [
            "Accuracy:  0.9111111111111111\n"
          ]
        }
      ],
      "source": [
        "#Vamos a calcular las metricas de precision para evaluar el desempeño del clasificador\n",
        "from sklearn.metrics import accuracy_score\n",
        "#Por ejemplo, la precisión se calcula a partir del numero total de muestras\n",
        "#correctamente clasificadas sobre el numero total de muestras\n",
        "\n",
        "print('Accuracy: ', accuracy_score(y_ts, y_pred))\n"
      ]
    },
    {
      "cell_type": "code",
      "execution_count": 10,
      "metadata": {
        "id": "C3AZ-ah4wDio"
      },
      "outputs": [
        {
          "data": {
            "text/plain": [
              "<sklearn.metrics._plot.confusion_matrix.ConfusionMatrixDisplay at 0x168658be0>"
            ]
          },
          "execution_count": 10,
          "metadata": {},
          "output_type": "execute_result"
        },
        {
          "data": {
            "image/png": "[encoded data removed]",
            "text/plain": [
              "<Figure size 640x480 with 2 Axes>"
            ]
          },
          "metadata": {},
          "output_type": "display_data"
        }
      ],
      "source": [
        "# Podemos tambien analizar la matriz de confusión\n",
        "from sklearn.metrics import confusion_matrix,  ConfusionMatrixDisplay\n",
        "cm = confusion_matrix(y_ts, y_pred)\n",
        "disp = ConfusionMatrixDisplay(\n",
        "    confusion_matrix=cm,\n",
        "    display_labels=RFclas.classes_,\n",
        ")\n",
        "disp.plot() \n"
      ]
    },
    {
      "cell_type": "code",
      "execution_count": 18,
      "metadata": {
        "id": "9ZQ8jcDNofzi"
      },
      "outputs": [],
      "source": [
        "# Podemos visualizar los árboles de decisión entrenados en el proceso\n",
        "\n",
        "from sklearn.tree import export_graphviz\n",
        "import graphviz\n",
        "from IPython.display import Image"
      ]
    },
    {
      "cell_type": "code",
      "execution_count": 23,
      "metadata": {},
      "outputs": [
        {
          "data": {
            "image/svg+xml": [
              "<?xml version=\"1.0\" encoding=\"UTF-8\" standalone=\"no\"?>\n",
              "<!DOCTYPE svg PUBLIC \"-//W3C//DTD SVG 1.1//EN\"\n",
              " \"http://www.w3.org/Graphics/SVG/1.1/DTD/svg11.dtd\">\n",
              "<!-- Generated by graphviz version 12.2.1 (20241206.2353)\n",
              " -->\n",
              "<!-- Title: Tree Pages: 1 -->\n",
              "<svg width=\"430pt\" height=\"224pt\"\n",
              " viewBox=\"0.00 0.00 429.75 224.00\" xmlns=\"http://www.w3.org/2000/svg\" xmlns:xlink=\"http://www.w3.org/1999/xlink\">\n",
              "<g id=\"graph0\" class=\"graph\" transform=\"scale(1 1) rotate(0) translate(4 220)\">\n",
              "<title>Tree</title>\n",
              "<polygon fill=\"white\" stroke=\"none\" points=\"-4,4 -4,-220 425.75,-220 425.75,4 -4,4\"/>\n",
              "<!-- 0 -->\n",
              "<g id=\"node1\" class=\"node\">\n",
              "<title>0</title>\n",
              "<polygon fill=\"#fcefe6\" stroke=\"black\" points=\"249.5,-216 69.25,-216 69.25,-163 249.5,-163 249.5,-216\"/>\n",
              "<text text-anchor=\"middle\" x=\"159.38\" y=\"-198.7\" font-family=\"Helvetica,sans-Serif\" font-size=\"14.00\">petal width &lt;= 0.75</text>\n",
              "<text text-anchor=\"middle\" x=\"159.38\" y=\"-183.7\" font-family=\"Helvetica,sans-Serif\" font-size=\"14.00\">samples = 100.0%</text>\n",
              "<text text-anchor=\"middle\" x=\"159.38\" y=\"-168.7\" font-family=\"Helvetica,sans-Serif\" font-size=\"14.00\">value = [0.41, 0.267, 0.324]</text>\n",
              "</g>\n",
              "<!-- 1 -->\n",
              "<g id=\"node2\" class=\"node\">\n",
              "<title>1</title>\n",
              "<polygon fill=\"#e58139\" stroke=\"black\" points=\"142.75,-119.5 0,-119.5 0,-81.5 142.75,-81.5 142.75,-119.5\"/>\n",
              "<text text-anchor=\"middle\" x=\"71.38\" y=\"-102.2\" font-family=\"Helvetica,sans-Serif\" font-size=\"14.00\">samples = 34.3%</text>\n",
              "<text text-anchor=\"middle\" x=\"71.38\" y=\"-87.2\" font-family=\"Helvetica,sans-Serif\" font-size=\"14.00\">value = [1.0, 0.0, 0.0]</text>\n",
              "</g>\n",
              "<!-- 0&#45;&gt;1 -->\n",
              "<g id=\"edge1\" class=\"edge\">\n",
              "<title>0&#45;&gt;1</title>\n",
              "<path fill=\"none\" stroke=\"black\" d=\"M133.45,-162.87C122.3,-151.84 109.27,-138.97 98.04,-127.86\"/>\n",
              "<polygon fill=\"black\" stroke=\"black\" points=\"100.51,-125.38 90.94,-120.84 95.59,-130.36 100.51,-125.38\"/>\n",
              "<text text-anchor=\"middle\" x=\"90.01\" y=\"-138.98\" font-family=\"Helvetica,sans-Serif\" font-size=\"14.00\">True</text>\n",
              "</g>\n",
              "<!-- 2 -->\n",
              "<g id=\"node3\" class=\"node\">\n",
              "<title>2</title>\n",
              "<polygon fill=\"#e9dcfa\" stroke=\"black\" points=\"333.75,-127 161,-127 161,-74 333.75,-74 333.75,-127\"/>\n",
              "<text text-anchor=\"middle\" x=\"247.38\" y=\"-109.7\" font-family=\"Helvetica,sans-Serif\" font-size=\"14.00\">petal length &lt;= 4.75</text>\n",
              "<text text-anchor=\"middle\" x=\"247.38\" y=\"-94.7\" font-family=\"Helvetica,sans-Serif\" font-size=\"14.00\">samples = 65.7%</text>\n",
              "<text text-anchor=\"middle\" x=\"247.38\" y=\"-79.7\" font-family=\"Helvetica,sans-Serif\" font-size=\"14.00\">value = [0.0, 0.452, 0.548]</text>\n",
              "</g>\n",
              "<!-- 0&#45;&gt;2 -->\n",
              "<g id=\"edge2\" class=\"edge\">\n",
              "<title>0&#45;&gt;2</title>\n",
              "<path fill=\"none\" stroke=\"black\" d=\"M185.3,-162.87C194.09,-154.18 204.03,-144.35 213.35,-135.14\"/>\n",
              "<polygon fill=\"black\" stroke=\"black\" points=\"215.6,-137.83 220.25,-128.31 210.68,-132.86 215.6,-137.83\"/>\n",
              "<text text-anchor=\"middle\" x=\"221.19\" y=\"-146.45\" font-family=\"Helvetica,sans-Serif\" font-size=\"14.00\">False</text>\n",
              "</g>\n",
              "<!-- 3 -->\n",
              "<g id=\"node4\" class=\"node\">\n",
              "<title>3</title>\n",
              "<polygon fill=\"#39e581\" stroke=\"black\" points=\"230.75,-38 88,-38 88,0 230.75,0 230.75,-38\"/>\n",
              "<text text-anchor=\"middle\" x=\"159.38\" y=\"-20.7\" font-family=\"Helvetica,sans-Serif\" font-size=\"14.00\">samples = 25.4%</text>\n",
              "<text text-anchor=\"middle\" x=\"159.38\" y=\"-5.7\" font-family=\"Helvetica,sans-Serif\" font-size=\"14.00\">value = [0.0, 1.0, 0.0]</text>\n",
              "</g>\n",
              "<!-- 2&#45;&gt;3 -->\n",
              "<g id=\"edge3\" class=\"edge\">\n",
              "<title>2&#45;&gt;3</title>\n",
              "<path fill=\"none\" stroke=\"black\" d=\"M219.05,-73.91C209.18,-64.99 198.1,-54.98 188.19,-46.03\"/>\n",
              "<polygon fill=\"black\" stroke=\"black\" points=\"190.73,-43.61 180.96,-39.5 186.04,-48.8 190.73,-43.61\"/>\n",
              "</g>\n",
              "<!-- 4 -->\n",
              "<g id=\"node5\" class=\"node\">\n",
              "<title>4</title>\n",
              "<polygon fill=\"#9456e9\" stroke=\"black\" points=\"421.75,-38 249,-38 249,0 421.75,0 421.75,-38\"/>\n",
              "<text text-anchor=\"middle\" x=\"335.38\" y=\"-20.7\" font-family=\"Helvetica,sans-Serif\" font-size=\"14.00\">samples = 40.3%</text>\n",
              "<text text-anchor=\"middle\" x=\"335.38\" y=\"-5.7\" font-family=\"Helvetica,sans-Serif\" font-size=\"14.00\">value = [0.0, 0.128, 0.872]</text>\n",
              "</g>\n",
              "<!-- 2&#45;&gt;4 -->\n",
              "<g id=\"edge4\" class=\"edge\">\n",
              "<title>2&#45;&gt;4</title>\n",
              "<path fill=\"none\" stroke=\"black\" d=\"M275.7,-73.91C285.57,-64.99 296.65,-54.98 306.56,-46.03\"/>\n",
              "<polygon fill=\"black\" stroke=\"black\" points=\"308.71,-48.8 313.79,-39.5 304.02,-43.61 308.71,-48.8\"/>\n",
              "</g>\n",
              "</g>\n",
              "</svg>\n"
            ],
            "text/plain": [
              "<graphviz.sources.Source at 0x171f279a0>"
            ]
          },
          "metadata": {},
          "output_type": "display_data"
        },
        {
          "data": {
            "image/svg+xml": [
              "<?xml version=\"1.0\" encoding=\"UTF-8\" standalone=\"no\"?>\n",
              "<!DOCTYPE svg PUBLIC \"-//W3C//DTD SVG 1.1//EN\"\n",
              " \"http://www.w3.org/Graphics/SVG/1.1/DTD/svg11.dtd\">\n",
              "<!-- Generated by graphviz version 12.2.1 (20241206.2353)\n",
              " -->\n",
              "<!-- Title: Tree Pages: 1 -->\n",
              "<svg width=\"422pt\" height=\"224pt\"\n",
              " viewBox=\"0.00 0.00 421.75 224.00\" xmlns=\"http://www.w3.org/2000/svg\" xmlns:xlink=\"http://www.w3.org/1999/xlink\">\n",
              "<g id=\"graph0\" class=\"graph\" transform=\"scale(1 1) rotate(0) translate(4 220)\">\n",
              "<title>Tree</title>\n",
              "<polygon fill=\"white\" stroke=\"none\" points=\"-4,4 -4,-220 417.75,-220 417.75,4 -4,4\"/>\n",
              "<!-- 0 -->\n",
              "<g id=\"node1\" class=\"node\">\n",
              "<title>0</title>\n",
              "<polygon fill=\"#e8fcf0\" stroke=\"black\" points=\"344.25,-216 156.5,-216 156.5,-163 344.25,-163 344.25,-216\"/>\n",
              "<text text-anchor=\"middle\" x=\"250.38\" y=\"-198.7\" font-family=\"Helvetica,sans-Serif\" font-size=\"14.00\">petal width &lt;= 1.75</text>\n",
              "<text text-anchor=\"middle\" x=\"250.38\" y=\"-183.7\" font-family=\"Helvetica,sans-Serif\" font-size=\"14.00\">samples = 100.0%</text>\n",
              "<text text-anchor=\"middle\" x=\"250.38\" y=\"-168.7\" font-family=\"Helvetica,sans-Serif\" font-size=\"14.00\">value = [0.219, 0.429, 0.352]</text>\n",
              "</g>\n",
              "<!-- 1 -->\n",
              "<g id=\"node2\" class=\"node\">\n",
              "<title>1</title>\n",
              "<polygon fill=\"#a4f3c5\" stroke=\"black\" points=\"253.25,-127 65.5,-127 65.5,-74 253.25,-74 253.25,-127\"/>\n",
              "<text text-anchor=\"middle\" x=\"159.38\" y=\"-109.7\" font-family=\"Helvetica,sans-Serif\" font-size=\"14.00\">petal width &lt;= 0.7</text>\n",
              "<text text-anchor=\"middle\" x=\"159.38\" y=\"-94.7\" font-family=\"Helvetica,sans-Serif\" font-size=\"14.00\">samples = 68.7%</text>\n",
              "<text text-anchor=\"middle\" x=\"159.38\" y=\"-79.7\" font-family=\"Helvetica,sans-Serif\" font-size=\"14.00\">value = [0.324, 0.634, 0.042]</text>\n",
              "</g>\n",
              "<!-- 0&#45;&gt;1 -->\n",
              "<g id=\"edge1\" class=\"edge\">\n",
              "<title>0&#45;&gt;1</title>\n",
              "<path fill=\"none\" stroke=\"black\" d=\"M223.56,-162.87C214.48,-154.18 204.2,-144.35 194.56,-135.14\"/>\n",
              "<polygon fill=\"black\" stroke=\"black\" points=\"197.05,-132.68 187.4,-128.3 192.21,-137.74 197.05,-132.68\"/>\n",
              "<text text-anchor=\"middle\" x=\"186.87\" y=\"-146.44\" font-family=\"Helvetica,sans-Serif\" font-size=\"14.00\">True</text>\n",
              "</g>\n",
              "<!-- 4 -->\n",
              "<g id=\"node5\" class=\"node\">\n",
              "<title>4</title>\n",
              "<polygon fill=\"#8139e5\" stroke=\"black\" points=\"413.75,-119.5 271,-119.5 271,-81.5 413.75,-81.5 413.75,-119.5\"/>\n",
              "<text text-anchor=\"middle\" x=\"342.38\" y=\"-102.2\" font-family=\"Helvetica,sans-Serif\" font-size=\"14.00\">samples = 31.3%</text>\n",
              "<text text-anchor=\"middle\" x=\"342.38\" y=\"-87.2\" font-family=\"Helvetica,sans-Serif\" font-size=\"14.00\">value = [0.0, 0.0, 1.0]</text>\n",
              "</g>\n",
              "<!-- 0&#45;&gt;4 -->\n",
              "<g id=\"edge4\" class=\"edge\">\n",
              "<title>0&#45;&gt;4</title>\n",
              "<path fill=\"none\" stroke=\"black\" d=\"M277.48,-162.87C289.25,-151.74 303.02,-138.71 314.84,-127.54\"/>\n",
              "<polygon fill=\"black\" stroke=\"black\" points=\"317.09,-130.23 321.95,-120.82 312.28,-125.15 317.09,-130.23\"/>\n",
              "<text text-anchor=\"middle\" x=\"322.35\" y=\"-138.97\" font-family=\"Helvetica,sans-Serif\" font-size=\"14.00\">False</text>\n",
              "</g>\n",
              "<!-- 2 -->\n",
              "<g id=\"node3\" class=\"node\">\n",
              "<title>2</title>\n",
              "<polygon fill=\"#e58139\" stroke=\"black\" points=\"142.75,-38 0,-38 0,0 142.75,0 142.75,-38\"/>\n",
              "<text text-anchor=\"middle\" x=\"71.38\" y=\"-20.7\" font-family=\"Helvetica,sans-Serif\" font-size=\"14.00\">samples = 28.4%</text>\n",
              "<text text-anchor=\"middle\" x=\"71.38\" y=\"-5.7\" font-family=\"Helvetica,sans-Serif\" font-size=\"14.00\">value = [1.0, 0.0, 0.0]</text>\n",
              "</g>\n",
              "<!-- 1&#45;&gt;2 -->\n",
              "<g id=\"edge2\" class=\"edge\">\n",
              "<title>1&#45;&gt;2</title>\n",
              "<path fill=\"none\" stroke=\"black\" d=\"M131.05,-73.91C121.18,-64.99 110.1,-54.98 100.19,-46.03\"/>\n",
              "<polygon fill=\"black\" stroke=\"black\" points=\"102.73,-43.61 92.96,-39.5 98.04,-48.8 102.73,-43.61\"/>\n",
              "</g>\n",
              "<!-- 3 -->\n",
              "<g id=\"node4\" class=\"node\">\n",
              "<title>3</title>\n",
              "<polygon fill=\"#46e789\" stroke=\"black\" points=\"333.75,-38 161,-38 161,0 333.75,0 333.75,-38\"/>\n",
              "<text text-anchor=\"middle\" x=\"247.38\" y=\"-20.7\" font-family=\"Helvetica,sans-Serif\" font-size=\"14.00\">samples = 40.3%</text>\n",
              "<text text-anchor=\"middle\" x=\"247.38\" y=\"-5.7\" font-family=\"Helvetica,sans-Serif\" font-size=\"14.00\">value = [0.0, 0.938, 0.062]</text>\n",
              "</g>\n",
              "<!-- 1&#45;&gt;3 -->\n",
              "<g id=\"edge3\" class=\"edge\">\n",
              "<title>1&#45;&gt;3</title>\n",
              "<path fill=\"none\" stroke=\"black\" d=\"M187.7,-73.91C197.57,-64.99 208.65,-54.98 218.56,-46.03\"/>\n",
              "<polygon fill=\"black\" stroke=\"black\" points=\"220.71,-48.8 225.79,-39.5 216.02,-43.61 220.71,-48.8\"/>\n",
              "</g>\n",
              "</g>\n",
              "</svg>\n"
            ],
            "text/plain": [
              "<graphviz.sources.Source at 0x1758f3df0>"
            ]
          },
          "metadata": {},
          "output_type": "display_data"
        },
        {
          "data": {
            "image/svg+xml": [
              "<?xml version=\"1.0\" encoding=\"UTF-8\" standalone=\"no\"?>\n",
              "<!DOCTYPE svg PUBLIC \"-//W3C//DTD SVG 1.1//EN\"\n",
              " \"http://www.w3.org/Graphics/SVG/1.1/DTD/svg11.dtd\">\n",
              "<!-- Generated by graphviz version 12.2.1 (20241206.2353)\n",
              " -->\n",
              "<!-- Title: Tree Pages: 1 -->\n",
              "<svg width=\"703pt\" height=\"224pt\"\n",
              " viewBox=\"0.00 0.00 702.75 224.00\" xmlns=\"http://www.w3.org/2000/svg\" xmlns:xlink=\"http://www.w3.org/1999/xlink\">\n",
              "<g id=\"graph0\" class=\"graph\" transform=\"scale(1 1) rotate(0) translate(4 220)\">\n",
              "<title>Tree</title>\n",
              "<polygon fill=\"white\" stroke=\"none\" points=\"-4,4 -4,-220 698.75,-220 698.75,4 -4,4\"/>\n",
              "<!-- 0 -->\n",
              "<g id=\"node1\" class=\"node\">\n",
              "<title>0</title>\n",
              "<polygon fill=\"#ffffff\" stroke=\"black\" points=\"433.25,-216 245.5,-216 245.5,-163 433.25,-163 433.25,-216\"/>\n",
              "<text text-anchor=\"middle\" x=\"339.38\" y=\"-198.7\" font-family=\"Helvetica,sans-Serif\" font-size=\"14.00\">sepal length &lt;= 5.45</text>\n",
              "<text text-anchor=\"middle\" x=\"339.38\" y=\"-183.7\" font-family=\"Helvetica,sans-Serif\" font-size=\"14.00\">samples = 100.0%</text>\n",
              "<text text-anchor=\"middle\" x=\"339.38\" y=\"-168.7\" font-family=\"Helvetica,sans-Serif\" font-size=\"14.00\">value = [0.352, 0.352, 0.295]</text>\n",
              "</g>\n",
              "<!-- 1 -->\n",
              "<g id=\"node2\" class=\"node\">\n",
              "<title>1</title>\n",
              "<polygon fill=\"#e99457\" stroke=\"black\" points=\"332.5,-127 152.25,-127 152.25,-74 332.5,-74 332.5,-127\"/>\n",
              "<text text-anchor=\"middle\" x=\"242.38\" y=\"-109.7\" font-family=\"Helvetica,sans-Serif\" font-size=\"14.00\">petal width &lt;= 0.75</text>\n",
              "<text text-anchor=\"middle\" x=\"242.38\" y=\"-94.7\" font-family=\"Helvetica,sans-Serif\" font-size=\"14.00\">samples = 35.8%</text>\n",
              "<text text-anchor=\"middle\" x=\"242.38\" y=\"-79.7\" font-family=\"Helvetica,sans-Serif\" font-size=\"14.00\">value = [0.86, 0.047, 0.093]</text>\n",
              "</g>\n",
              "<!-- 0&#45;&gt;1 -->\n",
              "<g id=\"edge1\" class=\"edge\">\n",
              "<title>0&#45;&gt;1</title>\n",
              "<path fill=\"none\" stroke=\"black\" d=\"M310.53,-162.63C300.85,-153.95 289.9,-144.13 279.66,-134.94\"/>\n",
              "<polygon fill=\"black\" stroke=\"black\" points=\"282.18,-132.5 272.4,-128.43 277.51,-137.71 282.18,-132.5\"/>\n",
              "<text text-anchor=\"middle\" x=\"272.63\" y=\"-146.58\" font-family=\"Helvetica,sans-Serif\" font-size=\"14.00\">True</text>\n",
              "</g>\n",
              "<!-- 4 -->\n",
              "<g id=\"node5\" class=\"node\">\n",
              "<title>4</title>\n",
              "<polygon fill=\"#d2f9e2\" stroke=\"black\" points=\"523.75,-127 351,-127 351,-74 523.75,-74 523.75,-127\"/>\n",
              "<text text-anchor=\"middle\" x=\"437.38\" y=\"-109.7\" font-family=\"Helvetica,sans-Serif\" font-size=\"14.00\">petal width &lt;= 1.75</text>\n",
              "<text text-anchor=\"middle\" x=\"437.38\" y=\"-94.7\" font-family=\"Helvetica,sans-Serif\" font-size=\"14.00\">samples = 64.2%</text>\n",
              "<text text-anchor=\"middle\" x=\"437.38\" y=\"-79.7\" font-family=\"Helvetica,sans-Serif\" font-size=\"14.00\">value = [0.0, 0.565, 0.435]</text>\n",
              "</g>\n",
              "<!-- 0&#45;&gt;4 -->\n",
              "<g id=\"edge4\" class=\"edge\">\n",
              "<title>0&#45;&gt;4</title>\n",
              "<path fill=\"none\" stroke=\"black\" d=\"M368.51,-162.63C378.3,-153.95 389.36,-144.13 399.7,-134.94\"/>\n",
              "<polygon fill=\"black\" stroke=\"black\" points=\"401.89,-137.68 407.05,-128.42 397.25,-132.44 401.89,-137.68\"/>\n",
              "<text text-anchor=\"middle\" x=\"406.7\" y=\"-146.57\" font-family=\"Helvetica,sans-Serif\" font-size=\"14.00\">False</text>\n",
              "</g>\n",
              "<!-- 2 -->\n",
              "<g id=\"node3\" class=\"node\">\n",
              "<title>2</title>\n",
              "<polygon fill=\"#e58139\" stroke=\"black\" points=\"142.75,-38 0,-38 0,0 142.75,0 142.75,-38\"/>\n",
              "<text text-anchor=\"middle\" x=\"71.38\" y=\"-20.7\" font-family=\"Helvetica,sans-Serif\" font-size=\"14.00\">samples = 31.3%</text>\n",
              "<text text-anchor=\"middle\" x=\"71.38\" y=\"-5.7\" font-family=\"Helvetica,sans-Serif\" font-size=\"14.00\">value = [1.0, 0.0, 0.0]</text>\n",
              "</g>\n",
              "<!-- 1&#45;&gt;2 -->\n",
              "<g id=\"edge2\" class=\"edge\">\n",
              "<title>1&#45;&gt;2</title>\n",
              "<path fill=\"none\" stroke=\"black\" d=\"M186.86,-73.69C165.76,-63.88 141.88,-52.78 121.33,-43.23\"/>\n",
              "<polygon fill=\"black\" stroke=\"black\" points=\"122.84,-40.07 112.3,-39.02 119.89,-46.41 122.84,-40.07\"/>\n",
              "</g>\n",
              "<!-- 3 -->\n",
              "<g id=\"node4\" class=\"node\">\n",
              "<title>3</title>\n",
              "<polygon fill=\"#c09cf2\" stroke=\"black\" points=\"333.75,-38 161,-38 161,0 333.75,0 333.75,-38\"/>\n",
              "<text text-anchor=\"middle\" x=\"247.38\" y=\"-20.7\" font-family=\"Helvetica,sans-Serif\" font-size=\"14.00\">samples = 4.5%</text>\n",
              "<text text-anchor=\"middle\" x=\"247.38\" y=\"-5.7\" font-family=\"Helvetica,sans-Serif\" font-size=\"14.00\">value = [0.0, 0.333, 0.667]</text>\n",
              "</g>\n",
              "<!-- 1&#45;&gt;3 -->\n",
              "<g id=\"edge3\" class=\"edge\">\n",
              "<title>1&#45;&gt;3</title>\n",
              "<path fill=\"none\" stroke=\"black\" d=\"M243.98,-73.91C244.47,-66.25 245,-57.79 245.5,-49.88\"/>\n",
              "<polygon fill=\"black\" stroke=\"black\" points=\"248.98,-50.2 246.12,-40 242,-49.76 248.98,-50.2\"/>\n",
              "</g>\n",
              "<!-- 5 -->\n",
              "<g id=\"node6\" class=\"node\">\n",
              "<title>5</title>\n",
              "<polygon fill=\"#39e581\" stroke=\"black\" points=\"503.75,-38 361,-38 361,0 503.75,0 503.75,-38\"/>\n",
              "<text text-anchor=\"middle\" x=\"432.38\" y=\"-20.7\" font-family=\"Helvetica,sans-Serif\" font-size=\"14.00\">samples = 32.8%</text>\n",
              "<text text-anchor=\"middle\" x=\"432.38\" y=\"-5.7\" font-family=\"Helvetica,sans-Serif\" font-size=\"14.00\">value = [0.0, 1.0, 0.0]</text>\n",
              "</g>\n",
              "<!-- 4&#45;&gt;5 -->\n",
              "<g id=\"edge5\" class=\"edge\">\n",
              "<title>4&#45;&gt;5</title>\n",
              "<path fill=\"none\" stroke=\"black\" d=\"M435.77,-73.91C435.28,-66.25 434.75,-57.79 434.25,-49.88\"/>\n",
              "<polygon fill=\"black\" stroke=\"black\" points=\"437.75,-49.76 433.63,-40 430.77,-50.2 437.75,-49.76\"/>\n",
              "</g>\n",
              "<!-- 6 -->\n",
              "<g id=\"node7\" class=\"node\">\n",
              "<title>6</title>\n",
              "<polygon fill=\"#8640e6\" stroke=\"black\" points=\"694.75,-38 522,-38 522,0 694.75,0 694.75,-38\"/>\n",
              "<text text-anchor=\"middle\" x=\"608.38\" y=\"-20.7\" font-family=\"Helvetica,sans-Serif\" font-size=\"14.00\">samples = 31.3%</text>\n",
              "<text text-anchor=\"middle\" x=\"608.38\" y=\"-5.7\" font-family=\"Helvetica,sans-Serif\" font-size=\"14.00\">value = [0.0, 0.036, 0.964]</text>\n",
              "</g>\n",
              "<!-- 4&#45;&gt;6 -->\n",
              "<g id=\"edge6\" class=\"edge\">\n",
              "<title>4&#45;&gt;6</title>\n",
              "<path fill=\"none\" stroke=\"black\" d=\"M492.89,-73.69C513.99,-63.88 537.87,-52.78 558.42,-43.23\"/>\n",
              "<polygon fill=\"black\" stroke=\"black\" points=\"559.86,-46.41 567.45,-39.02 556.91,-40.07 559.86,-46.41\"/>\n",
              "</g>\n",
              "</g>\n",
              "</svg>\n"
            ],
            "text/plain": [
              "<graphviz.sources.Source at 0x1742c9760>"
            ]
          },
          "metadata": {},
          "output_type": "display_data"
        }
      ],
      "source": [
        "for i in range(3):\n",
        "    tree = RFclas.estimators_[i]\n",
        "    dot_data = export_graphviz(tree,\n",
        "                               feature_names=X_tr.columns,\n",
        "                               filled=True,\n",
        "                               max_depth=2,\n",
        "                               impurity=False,\n",
        "                               proportion=True,)\n",
        "    graph = graphviz.Source(dot_data)\n",
        "    display(graph)"
      ]
    },
    {
      "cell_type": "markdown",
      "metadata": {
        "id": "Os0TMdUVKZUa"
      },
      "source": [
        "## <span style = 'color:red'>C.</span> Parametros de Random Forest  \n",
        "1. Parámetros de la bolsa (Bagging)\n",
        "\n",
        "*   n_estimators: Numero de árboles de decisión\n",
        "*   boostrap: uso de muestras con o sin remplazo\n",
        "*   criterion: evaluación de la división del nodo\n",
        "\n",
        "2. parámetros de los arboles\n",
        "\n",
        "*   max_features: máximo número de características que pueden ser referenciadas en un partición\n",
        "*   max_depth: máxima profundidad del árbol de decisión\n",
        "*   min_samples_split: mínimo número de muestras para la subdivisión de un nodo\n",
        "\n",
        "\n"
      ]
    },
    {
      "cell_type": "code",
      "execution_count": 22,
      "metadata": {
        "id": "-1Whfehmlb0w"
      },
      "outputs": [
        {
          "name": "stdout",
          "output_type": "stream",
          "text": [
            "Accuracy: 0.9111111111111111\n"
          ]
        }
      ],
      "source": [
        "#Veamos que ocurre, si cambiamos alguno de los parametros del modelo\n",
        "\n",
        "#Entrenamos\n",
        "RFclas2 = RandomForestClassifier(\n",
        "    n_estimators=200,\n",
        "    criterion='gini',\n",
        "    max_depth=2,\n",
        "    random_state=0,\n",
        ")\n",
        "RFclas2.fit(X_tr, y_tr)\n",
        "\n",
        "#Aplicamos el modelo\n",
        "y_pred2 = RFclas.predict(X_ts)\n",
        "\n",
        "#Analizamos la precision:\n",
        "print('Accuracy:', accuracy_score(y_ts, y_pred2))"
      ]
    },
    {
      "cell_type": "markdown",
      "metadata": {
        "id": "04LVQMv5poJ3"
      },
      "source": [
        "### <span style = 'color: red'>D.</span> Selección de características importantes\n",
        "Una de las herramientas de proporciona Random Forest es la medida de la importancia de las características. Es decir, que además de proporcionarnos un modelo de clasificación, es un selector de características. La importancia se determina por la frecuencia que una característica es seleccionada para la construcción de un árbol de decisión."
      ]
    },
    {
      "cell_type": "code",
      "execution_count": 24,
      "metadata": {
        "id": "NejqhGW1vDjS"
      },
      "outputs": [
        {
          "data": {
            "text/plain": [
              "petal width (cm)     0.467968\n",
              "petal length (cm)    0.405951\n",
              "sepal length (cm)    0.114339\n",
              "sepal width (cm)     0.011741\n",
              "dtype: float64"
            ]
          },
          "execution_count": 24,
          "metadata": {},
          "output_type": "execute_result"
        }
      ],
      "source": [
        "#La informacion sobre la importancia de cada caracteristica se encuentra en el atributo\n",
        "#feature_importances_ del modelo.\n",
        "#Lo organizamos en una Serie para su visualizacion\n",
        "feature_imp = pd.Series(\n",
        "    RFclas2.feature_importances_,\n",
        "    index=iris.feature_names,\n",
        "    ).sort_values(\n",
        "        ascending=False\n",
        "    )\n",
        "feature_imp"
      ]
    },
    {
      "cell_type": "code",
      "execution_count": null,
      "metadata": {
        "id": "GisWeVxwvZux"
      },
      "outputs": [],
      "source": [
        "#Tambien podemos graficarlo\n",
        "\n",
        "\n",
        "#Este tipo de analisis permite decidir si queremos continuar con todo el conjunto\n",
        "#de caracteristicas, o seleccionar solo las mas importantes\n",
        "#Reducir el espacio de representacion permite reducir los costos computacionales\n",
        "\n",
        "\n",
        "\n",
        "\n"
      ]
    },
    {
      "cell_type": "code",
      "execution_count": 25,
      "metadata": {
        "id": "qO8NWQ0Kv35k"
      },
      "outputs": [],
      "source": [
        "#Entrenamiento de un modelo usando solo las caracteristicas mas relevantes\n",
        "#Seleccionamos el conjunto de caracteristicas\n",
        "X = data[['petal width', 'petal length', 'sepal length']]\n",
        "y = data['species']\n",
        "\n",
        "#Dividimos de nuevo el conjunto de datos\n",
        "X_train,X_test,y_train,y_test = train_test_split(X,y,test_size=0.3)"
      ]
    },
    {
      "cell_type": "code",
      "execution_count": 27,
      "metadata": {
        "id": "KJF9cPrtwE-x"
      },
      "outputs": [
        {
          "name": "stdout",
          "output_type": "stream",
          "text": [
            "Accuracy:  0.9777777777777777\n"
          ]
        }
      ],
      "source": [
        "#Entrenamos el clasificador\n",
        "RFclas3 = RandomForestClassifier(n_estimators=200, criterion=\"gini\", max_depth=5, random_state=0)\n",
        "RFclas3.fit(X_train,y_train)\n",
        "#Clasificamos\n",
        "y_pred = RFclas3.predict(X_test)\n",
        "#Calculamos la precision\n",
        "print(\"Accuracy: \", accuracy_score(y_test,y_pred))\n"
      ]
    },
    {
      "cell_type": "code",
      "execution_count": 30,
      "metadata": {
        "id": "MK55AK44xdBb"
      },
      "outputs": [],
      "source": [
        "#Que ocurre si solo usamos dos caracteristicas?\n",
        "\n"
      ]
    },
    {
      "cell_type": "markdown",
      "metadata": {
        "id": "RLKY7cOTY5pk"
      },
      "source": [
        "#### Anotaciones importantes\n",
        "1. Para el uso de Random Forest tenemos varios elementos que debemos definir de nuestro modelo\n",
        "2. Por un lado, tenemos que seleccionar el número de características de los datos con las que queremos trabajar. Una forma de hacerlo es, entrenando un modelo inicial de RF y usar la importancia de las características calculada por el algoritmo para solo quedarnos con las mas relevantes. Otra alternativa es aplicar otros métodos de selección de características.\n",
        "3. Por otro lado, debemos definir los hiperparámetros del clasificador. En la literatura, se encuentran muchos resultados que ofrecen una idea de que valores utilizar con datasets como Iris. Sin embargo, para casos reales es necesario realizar una selección adecuada de los hiperparámetros.\n"
      ]
    }
  ],
  "metadata": {
    "colab": {
      "provenance": []
    },
    "kernelspec": {
      "display_name": ".venv",
      "language": "python",
      "name": "python3"
    },
    "language_info": {
      "codemirror_mode": {
        "name": "ipython",
        "version": 3
      },
      "file_extension": ".py",
      "mimetype": "text/x-python",
      "name": "python",
      "nbconvert_exporter": "python",
      "pygments_lexer": "ipython3",
      "version": "3.9.6"
    }
  },
  "nbformat": 4,
  "nbformat_minor": 0
}

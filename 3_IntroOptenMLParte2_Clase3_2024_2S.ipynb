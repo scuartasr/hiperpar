{
  "cells": [
    {
      "cell_type": "markdown",
      "metadata": {
        "id": "RVLYVoQvQ0Rm"
      },
      "source": [
        "<table>\n",
        "    <tr>\n",
        "        <td style=\"text-align:left\">\n",
        "            <img src=\"https://encrypted-tbn0.gstatic.com/images?q=tbn:ANd9GcR9ItLTT_F-3Q30cu7ZCCoKmuFGBt22pe7pNA\" alt=\"Logo Universidad\" width=\"300\"/>\n",
        "        </td>\n",
        "        <td>\n",
        "            Departamento de Ciencias de la Computación y de la Decisión<br>\n",
        "            Facultad de Minas<br>\n",
        "            Universidad Nacional de Colombia<br>\n",
        "            Optimizacion e IA 2024-2S<br><br>\n",
        "            Docente: Maria Constanza Torres Madronero<br>\n",
        "            <br>\n",
        "            Contribuciones a la guia por: <br>\n",
        "            - Deimer Miranda Montoya (2023)<br>\n",
        "            - Luis Fernando Becerra Monsalve (2024)\n",
        "        </td>    \n",
        "    </tr>\n",
        "</table>"
      ]
    },
    {
      "cell_type": "markdown",
      "metadata": {
        "id": "Jz6DFPE8Q0Rn"
      },
      "source": [
        "# **Clasificacion supervisada**"
      ]
    },
    {
      "cell_type": "code",
      "execution_count": 28,
      "metadata": {
        "id": "LDp4bA8GQ0Ro"
      },
      "outputs": [],
      "source": [
        "from sklearn import datasets\n",
        "from sklearn.model_selection import train_test_split\n",
        "from sklearn.ensemble import RandomForestClassifier\n",
        "from sklearn import metrics\n",
        "from sklearn.metrics import confusion_matrix, ConfusionMatrixDisplay\n",
        "import pandas as pd\n"
      ]
    },
    {
      "cell_type": "code",
      "source": [
        "#Cargar los datos\n",
        "iris = datasets.load_iris()\n",
        "\n",
        "#Organizamos los datos en un DataFrame de panda\n",
        "data = pd.DataFrame({\n",
        "    'sepal length' :iris.data[:,0],\n",
        "    'sepal width' :iris.data[:,1],\n",
        "    'petal length' :iris.data[:,2],\n",
        "    'petal width' :iris.data[:,3],\n",
        "    'species' :iris.target\n",
        "})"
      ],
      "metadata": {
        "id": "evbldjzM6zvO"
      },
      "execution_count": 29,
      "outputs": []
    },
    {
      "cell_type": "code",
      "source": [
        "#Dividimos los datos entre las muestras de entrenamiento y prueba\n",
        "X = data[['sepal length', 'sepal width', 'petal length', 'petal width']] #Muestras\n",
        "#X = data[['sepal length', 'petal length', 'petal width']] #Muestras\n",
        "y = data['species'] #Etiquetas\n",
        "#Seleccionamos 70% de muestras para entrenamiento y 30% para prueba\n",
        "X_train, X_test, y_train, y_test = train_test_split(X,y,test_size=0.3)"
      ],
      "metadata": {
        "id": "iDq3iGh_jeUW"
      },
      "execution_count": 30,
      "outputs": []
    },
    {
      "cell_type": "markdown",
      "source": [
        "\n",
        "#### (c) Optimizacion de hiperparametros usando busqueda de grilla"
      ],
      "metadata": {
        "id": "iE53fWP502Yi"
      }
    },
    {
      "cell_type": "code",
      "source": [
        "#Vamos a seleccionar los hiperparametros de nuestro Random Forest empleando la busqueda\n",
        "#de grilla. La libreria sklearn incluye este metodo\n",
        "\n",
        "\n",
        "#Creamos la grilla con los parametros a seleccionar\n",
        "\n",
        "\n",
        "#Defimos el clasificador base\n",
        "\n",
        "#Realizamos la busqueda de los hiperparametros\n",
        "\n",
        "#Nota: no se olviden de invocar el metodo para entrenar .fit\n"
      ],
      "metadata": {
        "id": "MrbIcLOScQ4i"
      },
      "execution_count": null,
      "outputs": []
    },
    {
      "cell_type": "code",
      "source": [
        "#Podemos ver que parametros fueron los seleccionados\n",
        "\n"
      ],
      "metadata": {
        "id": "red5gSqec1wa"
      },
      "execution_count": null,
      "outputs": []
    },
    {
      "cell_type": "code",
      "source": [
        "#Usamos el clasificador y analizamos su precision\n"
      ],
      "metadata": {
        "id": "EZdNXRymdMv0"
      },
      "execution_count": null,
      "outputs": []
    },
    {
      "cell_type": "code",
      "source": [
        "#Otra alternativa para analizar el desempeño es la matriz de confusion\n",
        "#tambien podemos calcularla desde la libreria sklearn\n",
        "\n"
      ],
      "metadata": {
        "id": "uHzbFdxGF1s-"
      },
      "execution_count": null,
      "outputs": []
    },
    {
      "cell_type": "markdown",
      "source": [
        "(d) Optimizacion de hiperparametros usando busqueda aleatoria"
      ],
      "metadata": {
        "id": "msxEENcc9R_f"
      }
    },
    {
      "cell_type": "code",
      "source": [
        "#Ahora, vamos a seleccionar los hiperparametros empleando busqueda aleatoria\n",
        "#este tipo de optimizador tambien se encuentra en sklearn\n",
        "\n",
        "#Creamos la grilla de hiperparametros, entre las cuales se seleccionara de forma\n",
        "#aleatoria la mejor configuracion\n",
        "\n",
        "\n",
        "\n",
        "\n",
        "#Definimos el clasificador base\n",
        "\n",
        "#Seleccionamos los hiperparametros\n",
        "\n",
        "#Nota: despues de emplear RandomizedSearchVC tambien se requiere entrenar\n",
        "#el modelo\n"
      ],
      "metadata": {
        "id": "Jx3zX2gJ9aMh"
      },
      "execution_count": null,
      "outputs": []
    },
    {
      "cell_type": "code",
      "source": [
        "#Revisamos los parametros seleccionados\n"
      ],
      "metadata": {
        "id": "-L33OXu-_8hW"
      },
      "execution_count": null,
      "outputs": []
    },
    {
      "cell_type": "code",
      "source": [
        "#Calculamos la precision\n",
        "y_test=RF_randomSearch.predict(X_test)\n",
        "print(\"Accuracy - Opt\", metrics.accuracy_score(y_test,y_pred))"
      ],
      "metadata": {
        "id": "lPD8jhE5-pQb"
      },
      "execution_count": null,
      "outputs": []
    },
    {
      "cell_type": "code",
      "source": [
        "#Calculamos la matriz de confusion\n",
        "cm_rf = confusion_matrix(y_test, y_pred)\n",
        "disp = ConfusionMatrixDisplay(confusion_matrix=cm_rf, display_labels=RF_gridSearch.best_estimator_.classes_)\n",
        "disp.plot()"
      ],
      "metadata": {
        "id": "OT7rkv_RADr1"
      },
      "execution_count": null,
      "outputs": []
    },
    {
      "cell_type": "markdown",
      "source": [
        "#### Anotaciones importantes\n",
        "1.\tNota que cada vez que corres el programa, cambian las muestras de entrenamiento y prueba, ya que estas son seleccionadas aleatoriamente. Por tanto, cambian los resultados de precisión. Para evitar el sesgo en el entrenamiento se debe incorporar métodos de validación cruzada.\n",
        "2.\tCompara los tiempos de ejecución tanto de la búsqueda en grilla como la búsqueda aleatoria. Usualmente, la búsqueda aleatoria converge mas rápido que la búsqueda por grilla.\n",
        "3.\tSi decides cambiar el espacio de representación, es decir, trabajar con un subconjunto de las características, es necesario volver a optimizar los hiperparametros. En clasificadores con SVM, RG e incluso NN pequeñas este proceso puede no ser costoso, pero en arquitecturas complejas puede tomar mucho tiempo.\n"
      ],
      "metadata": {
        "id": "8flR-e1ugJnp"
      }
    }
  ],
  "metadata": {
    "kernelspec": {
      "display_name": "Python 3",
      "language": "python",
      "name": "python3"
    },
    "language_info": {
      "codemirror_mode": {
        "name": "ipython",
        "version": 3
      },
      "file_extension": ".py",
      "mimetype": "text/x-python",
      "name": "python",
      "nbconvert_exporter": "python",
      "pygments_lexer": "ipython3",
      "version": "3.10.12"
    },
    "colab": {
      "provenance": []
    }
  },
  "nbformat": 4,
  "nbformat_minor": 0
}
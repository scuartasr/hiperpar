{
  "cells": [
    {
      "cell_type": "markdown",
      "metadata": {
        "id": "RVLYVoQvQ0Rm"
      },
      "source": [
        "<table>\n",
        "    <tr>\n",
        "        <td style=\"text-align:left\">\n",
        "            <img src=\"https://encrypted-tbn0.gstatic.com/images?q=tbn:ANd9GcR9ItLTT_F-3Q30cu7ZCCoKmuFGBt22pe7pNA\" alt=\"Logo Universidad\" width=\"300\"/>\n",
        "        </td>\n",
        "        <td>\n",
        "            Departamento de Ciencias de la Computación y de la Decisión<br>\n",
        "            Facultad de Minas<br>\n",
        "            Universidad Nacional de Colombia<br>\n",
        "            Optimizacion e IA 2024-2S<br><br>\n",
        "            Docente: Maria Constanza Torres Madronero<br>\n",
        "            <br>\n",
        "            Contribuciones a la guia por: <br>\n",
        "            - Deimer Miranda Montoya (2023)<br>\n",
        "            - Luis Fernando Becerra Monsalve (2024)\n",
        "        </td>    \n",
        "    </tr>\n",
        "</table>"
      ]
    },
    {
      "cell_type": "markdown",
      "metadata": {
        "id": "Jz6DFPE8Q0Rn"
      },
      "source": [
        "# **Visualización de datos en 1D**"
      ]
    },
    {
      "cell_type": "markdown",
      "metadata": {
        "id": "5otWvp5hQ0Ro"
      },
      "source": [
        "\n",
        "\n",
        "#### (a) Función objetivo\n",
        "\n",
        "Comencemos definiendo nuestra función de prueba. Esta función es la que queremos optimizar. Para mantenerlo simple, en esta primera parte, usaremos una función cuadrática.\n"
      ]
    },
    {
      "cell_type": "code",
      "execution_count": null,
      "metadata": {
        "id": "LDp4bA8GQ0Ro"
      },
      "outputs": [],
      "source": [
        "#####\n",
        "def test_function(x):\n",
        "    #aqui va la ecuacion de la funcion a evaluar x^2-4x+4\n",
        "\n",
        "#####\n",
        "print('f(%.3f) = %.3f' % (x, result))\n"
      ]
    },
    {
      "cell_type": "markdown",
      "metadata": {
        "id": "H7I_LXbXQ0Rp"
      },
      "source": [
        "#### (b) Evaluación de la función objetivo\n",
        "\n",
        "Para visualizar nuestra función, primero debemos obtener muestras de ella en un rango específico."
      ]
    },
    {
      "cell_type": "code",
      "execution_count": null,
      "metadata": {
        "id": "jOFHrxXvQ0Rp"
      },
      "outputs": [],
      "source": [
        "# Usamos la función np.linspace() para crear un arreglo de valores 'x'.\n",
        "# La función genera 100 puntos linealmente espaciados entre -1 y 5.\n",
        "\n",
        "\n",
        "for i in range(5):\n",
        "    print('f(%.3f) = %.3f' % (x[i], y[i]))\n"
      ]
    },
    {
      "cell_type": "markdown",
      "metadata": {
        "id": "9yrIwDyQQ0Rp"
      },
      "source": [
        "#### (c) Visualización de la función objetivo\n",
        "\n",
        "A continuación, crearemos un gráfico de línea de nuestra función."
      ]
    },
    {
      "cell_type": "code",
      "execution_count": null,
      "metadata": {
        "id": "BojNfM80Q0Rq"
      },
      "outputs": [],
      "source": [
        "\n",
        "#plot\n",
        "\n",
        "#titulo de la grafica\n",
        "\n",
        "# Etiquetamos el eje X con la palabra 'x'.\n",
        "\n",
        "# Etiquetamos el eje Y con la palabra 'y'.\n",
        "\n",
        "# Mostramos el gráfico en pantalla.\n"
      ]
    },
    {
      "cell_type": "markdown",
      "metadata": {
        "id": "a4NBZjuMQ0Rq"
      },
      "source": [
        "#### (d) Scatter Plot of Test Function\n",
        "\n",
        "Además del gráfico de línea, podemos usar un gráfico de dispersión para visualizar puntos específicos de la función."
      ]
    },
    {
      "cell_type": "code",
      "execution_count": null,
      "metadata": {
        "id": "TBn73_bRQ0Rq"
      },
      "outputs": [],
      "source": [
        "# Creamos un arreglo de valores de 'x' usando np.arange()\n",
        "\n",
        "# Usamos la función 'test_function'\n",
        "\n",
        "# Usamos la función scatter para crear un gráfico de dispersión.\n",
        "\n",
        "# Agregamos un título al gráfico.\n",
        "\n",
        "# Etiquetamos el eje X con la palabra 'x'.\n",
        "\n",
        "# Etiquetamos el eje Y con la palabra 'y'.\n",
        "\n",
        "# Añadimos una cuadrícula al gráfico con estilo de línea punteada y un ancho de línea de 0.5.\n",
        "\n",
        "# Finalmente, mostramos el gráfico en pantalla.\n"
      ]
    },
    {
      "cell_type": "markdown",
      "metadata": {
        "id": "DziaqaPJQ0Rq"
      },
      "source": [
        "#### (e) Visualización del punto optimo\n",
        "\n",
        "Podemos mejorar nuestro gráfico de línea al marcar el óptimo (mínimo en este caso) de la función."
      ]
    },
    {
      "cell_type": "code",
      "execution_count": null,
      "metadata": {
        "id": "k61avMINQ0Rr"
      },
      "outputs": [],
      "source": [
        "# Establecemos el valor de x_min en 2. Esto se basa en el análisis matemático de la función,\n",
        "# donde derivamos la función y la igualamos a cero para encontrar el mínimo.\n",
        "\n"
      ]
    },
    {
      "cell_type": "markdown",
      "metadata": {
        "id": "pvNL1UqJqeAL"
      },
      "source": [
        "# **Búsqueda en cuadrícula o grilla**\n",
        "\n",
        "La búsqueda en cuadrícula o grilla es un método robusto ampliamente empleado para optimizar hiperparámetros en modelos de aprendizaje de máquinas. Explora exhaustivamente todas las combinaciones posibles de hiperparámetros especificados para identificar los ajustes óptimos.\n",
        "\n",
        "La búsqueda en cuadrícula construye una cuadrícula con todas las combinaciones posibles de hiperparámetros. A continuación, entrena y evalúa el modelo con cada combinación, seleccionando la de mejor rendimiento. Esta es una exploración exhaustiva del espacio de hiperparámetros.\n",
        "\n",
        "La principal ventaja de este método reside en su carácter exhaustivo. Garantiza la identificación de la mejor combinación dentro del espacio de búsqueda especificado. Este método es especialmente beneficioso para modelos con un número limitado de hiperparámetros. Sin embargo, su elevado coste computacional se convierte en un inconveniente importante cuando se trata de grandes espacios de hiperparámetros o de modelos complejos.\n",
        "\n",
        "Vamos a entender el funcionamiento de la búsqueda en cuadrícula o grilla empleando este método para obtener el valor óptimo de una función.\n"
      ]
    },
    {
      "cell_type": "code",
      "execution_count": 7,
      "metadata": {
        "id": "WnKSkchvU58q"
      },
      "outputs": [],
      "source": [
        "#Muestras que valos a evaluar en la busqueda en grilla\n",
        "\n",
        "#Busqueda en grilla\n"
      ]
    },
    {
      "cell_type": "code",
      "execution_count": null,
      "metadata": {
        "id": "eKNK2WPUWm-t"
      },
      "outputs": [],
      "source": [
        "#Muestra de la grafica\n",
        "plt.plot(x,y,'-r')\n",
        "###\n",
        "####\n",
        "plt.title('Optimizacion usando metodo de grilla')\n"
      ]
    },
    {
      "cell_type": "markdown",
      "metadata": {
        "id": "kVSy3eqErgnN"
      },
      "source": [
        "# **Búsqueda aleatoria**\n",
        "\n",
        "La búsqueda aleatoria es una técnica de muestreo de hiperparámetros que equilibra la eficiencia con la eficacia. Se diferencia de la búsqueda en cuadricula en que no prueba exhaustivamente todas las combinaciones. En lugar de ello, selecciona de forma aleatoria los valores de los hiperparámetros a partir de distribuciones.\n",
        "\n",
        "En el aprendizaje de máquina, la búsqueda aleatoria es mejor para los espacios de hiperparámetros de alta dimensión. Puede encontrar hiperparámetros eficaces con menos ensayos, por lo que es una opción que ahorra tiempo en la optimización de modelos. Sin embargo, tiene sus limitaciones. Su naturaleza aleatoria puede pasar por alto combinaciones óptimas. Pero la compensación entre tiempo de cálculo y optimización del rendimiento la convierte en una herramienta valiosa en el aprendizaje de máquinas.\n"
      ]
    },
    {
      "cell_type": "code",
      "execution_count": null,
      "metadata": {
        "id": "2i2MplDSYDz-"
      },
      "outputs": [],
      "source": [
        "#busqueda aleatoria\n",
        "####\n",
        "\n",
        "plt.plot(x,y,'-r')\n",
        "plt.scatter(x_sample,y_sample,c='blue',marker='o')\n",
        "plt.scatter(x_sample[best_ix],f_opt,c='black',marker='o')\n",
        "plt.title('Optimizacion usando metodo aleatorio')\n",
        "print(x_sample[best_ix])"
      ]
    },
    {
      "cell_type": "markdown",
      "metadata": {
        "id": "H1VKlDckp387"
      },
      "source": [
        "#**Funciones 2D**"
      ]
    },
    {
      "cell_type": "code",
      "execution_count": 10,
      "metadata": {
        "id": "u1SyrkCSaanj"
      },
      "outputs": [],
      "source": [
        "#Minimizacion de una funcion 2D\n",
        "#Minimizar la funcion x^2 + y^2 - el punto optimo (0,0)\n",
        "\n",
        "#####"
      ]
    },
    {
      "cell_type": "code",
      "execution_count": null,
      "metadata": {
        "id": "7kVMffYrcghO"
      },
      "outputs": [],
      "source": [
        "#Libreria para grafica de contornos\n",
        "#####"
      ]
    },
    {
      "cell_type": "code",
      "execution_count": 12,
      "metadata": {
        "id": "dpoO5IvYd8D4"
      },
      "outputs": [],
      "source": [
        "#Generamos la grilla\n",
        "\n",
        "\n",
        "#Calculamos la funcion\n"
      ]
    },
    {
      "cell_type": "code",
      "execution_count": null,
      "metadata": {
        "id": "OGH3PNqOfkD3"
      },
      "outputs": [],
      "source": [
        "#Busqueda en grilla\n",
        "\n",
        "###\n",
        "\n",
        "print('Punto optimo: x:',x_t[best_x][best_y],'y:',y_t[best_x][best_y])\n",
        "print('Valor optimo:' ,f_opt)"
      ]
    },
    {
      "cell_type": "code",
      "execution_count": null,
      "metadata": {
        "id": "MmzNSihwpqLl"
      },
      "outputs": [],
      "source": [
        "#Grafica\n",
        "##\n",
        "##\n",
        "pyplot.colorbar()"
      ]
    },
    {
      "cell_type": "code",
      "execution_count": 15,
      "metadata": {
        "id": "SdYid8LaglgF"
      },
      "outputs": [],
      "source": [
        "#Generamos los puntos aleatorio\n",
        "###\n",
        "\n",
        "#Calculamos la funcion\n",
        "feval_t=fun_objetive(x_t,y_t)"
      ]
    },
    {
      "cell_type": "code",
      "execution_count": null,
      "metadata": {
        "id": "EZaO_VZphxpm"
      },
      "outputs": [],
      "source": [
        "#Busqueda valor optimo\n",
        "f_opt = feval_t[0][0]\n",
        "for i in range(feval_t.shape[0]):\n",
        "  for j in range(feval_t.shape[1]):\n",
        "    if feval_t[i][j]<f_opt:\n",
        "      f_opt=feval_t[i][j]\n",
        "      best_x = i\n",
        "      best_y = j\n",
        "\n",
        "print('Punto optimo: x:',x_t[best_x][best_y],'y:',y_t[best_x][best_y])\n",
        "print('Valor optimo:' ,f_opt)"
      ]
    },
    {
      "cell_type": "code",
      "execution_count": null,
      "metadata": {
        "id": "i1KwDTWjidlu"
      },
      "outputs": [],
      "source": [
        "#Grafica\n",
        "pyplot.contourf(x, y, feval, levels=50, cmap='jet')\n",
        "pyplot.scatter(x_sample,y_sample,c='black',marker='.')\n",
        "pyplot.colorbar()"
      ]
    },
    {
      "cell_type": "markdown",
      "metadata": {
        "id": "lZqTZrmdY4mx"
      },
      "source": [
        "# Ejercicios practicos\n",
        "Encuentre el valor minimo de las siguientes funciones, empleando busqueda en grilla y aleatoria. Para cada muestra, grafique la funcion e imprima el valor optimo obtenido.\n",
        "\n",
        "![eq1.png](data:image/png;base64,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)\n",
        "\n"
      ]
    }
  ],
  "metadata": {
    "colab": {
      "provenance": []
    },
    "kernelspec": {
      "display_name": ".venv",
      "language": "python",
      "name": "python3"
    },
    "language_info": {
      "codemirror_mode": {
        "name": "ipython",
        "version": 3
      },
      "file_extension": ".py",
      "mimetype": "text/x-python",
      "name": "python",
      "nbconvert_exporter": "python",
      "pygments_lexer": "ipython3",
      "version": "3.9.6"
    }
  },
  "nbformat": 4,
  "nbformat_minor": 0
}

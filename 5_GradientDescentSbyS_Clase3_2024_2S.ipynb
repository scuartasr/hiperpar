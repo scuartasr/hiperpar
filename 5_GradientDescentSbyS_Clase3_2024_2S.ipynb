{
  "cells": [
    {
      "cell_type": "markdown",
      "metadata": {
        "id": "RVLYVoQvQ0Rm"
      },
      "source": [
        "<table>\n",
        "    <tr>\n",
        "        <td style=\"text-align:left\">\n",
        "            <img src=\"https://encrypted-tbn0.gstatic.com/images?q=tbn:ANd9GcR9ItLTT_F-3Q30cu7ZCCoKmuFGBt22pe7pNA\" alt=\"Logo Universidad\" width=\"300\"/>\n",
        "        </td>\n",
        "        <td>\n",
        "            Departamento de Ciencias de la Computación y de la Decisión<br>\n",
        "            Facultad de Minas<br>\n",
        "            Universidad Nacional de Colombia<br>\n",
        "            Optimizacion e IA 2024-2S<br><br>\n",
        "            Docente: Maria Constanza Torres Madronero<br>\n",
        "            <br>\n",
        "            Contribuciones a la guia por: <br>\n",
        "            - Deimer Miranda Montoya (2023)<br>\n",
        "            - Luis Fernando Becerra Monsalve (2024)\n",
        "        </td>    \n",
        "    </tr>\n",
        "</table>"
      ]
    },
    {
      "cell_type": "markdown",
      "metadata": {
        "id": "Jz6DFPE8Q0Rn"
      },
      "source": [
        "# **Gradiente Descendiente Paso a Paso**\n",
        "\n",
        "\n"
      ]
    },
    {
      "cell_type": "markdown",
      "metadata": {
        "id": "5otWvp5hQ0Ro"
      },
      "source": [
        "## <span style = 'color: red'>A.</span> Implementacion de gradiente descendiente para minimizar una funcion"
      ]
    },
    {
      "cell_type": "code",
      "execution_count": 12,
      "metadata": {
        "id": "In7wY1IdK8UX"
      },
      "outputs": [],
      "source": [
        "#Importacion de librerias\n",
        "from numpy import asarray\n",
        "from numpy import arange\n",
        "from numpy.random import rand\n",
        "from matplotlib import pyplot"
      ]
    },
    {
      "cell_type": "code",
      "execution_count": 13,
      "metadata": {
        "id": "v2xSgX9kVo1j"
      },
      "outputs": [],
      "source": [
        "#Definimos la funcion objetivo\n",
        "def objective(x):\n",
        "    return x**2.0\n",
        "    \n",
        "#Calculamos el gradiente de la funcion\n",
        "def derivative(x):\n",
        "    return 2.0*x"
      ]
    },
    {
      "cell_type": "code",
      "execution_count": 14,
      "metadata": {
        "id": "ELLpBvI0VrbX"
      },
      "outputs": [],
      "source": [
        "#Algoritmo de gradiente descendente\n",
        "\n",
        "def gradient_descent(objective, derivative, bounds, n_iter, step_size, my_flag):\n",
        "\n",
        "  # Guardamos las soluciones en una lista\n",
        "\tsolutions, scores = list(), list()\n",
        "       \n",
        "  # Generamos el punto inicial de forma aleatoria\n",
        "\tsolution = bounds[:, 0] + rand(len(bounds)) * (bounds[:, 1] - bounds[:, 0])\n",
        "\t# Algoritmo iterativo\n",
        "\tfor i in range(n_iter):\n",
        "\t\t#1. Calculo del gradiente\n",
        "\t\tgradiente = derivative(solution)\n",
        "\t\t#2. Actualizacion de la solucion\n",
        "\t\tsolution = solution - step_size * gradiente\n",
        "\t\t#3. Evaluacion de la solucion\n",
        "\t\tsolution_eval = objective(solution)\n",
        "\t#Almacenamos la solucion\n",
        "\t\tsolutions.append(solution)\n",
        "\t\tscores.append(solution_eval)\n",
        "\t\t#Mostramos el progreso\n",
        "\tif my_flag:\n",
        "\t\tprint('>%d f(%s) = %.5f' % (i, solution, solution_eval))\n",
        "\treturn [solutions, scores]"
      ]
    },
    {
      "cell_type": "code",
      "execution_count": 15,
      "metadata": {
        "id": "6NaYoXzoVxSx"
      },
      "outputs": [
        {
          "name": "stdout",
          "output_type": "stream",
          "text": [
            ">29 f([-0.00092449]) = 0.00000\n"
          ]
        },
        {
          "name": "stderr",
          "output_type": "stream",
          "text": [
            "/var/folders/sk/70417qyj4msbzpr87cqckzgm0000gn/T/ipykernel_19896/4264458640.py:23: DeprecationWarning: Conversion of an array with ndim > 0 to a scalar is deprecated, and will error in future. Ensure you extract a single element from your array before performing this operation. (Deprecated NumPy 1.25.)\n",
            "  print('>%d f(%s) = %.5f' % (i, solution, solution_eval))\n"
          ]
        }
      ],
      "source": [
        "# Deliminatos el rango de los datos\n",
        "bounds = asarray([[-1.0, 1.0]])\n",
        "# Definimos el numero de iteraciones\n",
        "n_iter = 30\n",
        "# Seleccionamos la longitud del paso\n",
        "step_size = 0.1\n",
        "# Aplicamos el algoritmo de gradiente descendente\n",
        "solutions, scores = gradient_descent(objective, derivative, bounds, n_iter, step_size, True)"
      ]
    },
    {
      "cell_type": "code",
      "execution_count": 16,
      "metadata": {
        "id": "hOlZEj67WGVo"
      },
      "outputs": [
        {
          "data": {
            "image/png": "[encoded data removed]",
            "text/plain": [
              "<Figure size 640x480 with 1 Axes>"
            ]
          },
          "metadata": {},
          "output_type": "display_data"
        }
      ],
      "source": [
        "#Grafica de la solucion\n",
        "#Calculamos la funcion y=f(x)\n",
        "x = arange(bounds[0, 0], bounds[0, 1]+ 0.1, 0.1)\n",
        "y = objective(x)\n",
        "# Graficamos la funcion\n",
        "pyplot.plot(solutions, scores, '.-', color='red')\n",
        "pyplot.plot(x, y)\n",
        "# Graficamos la solucion\n",
        "pyplot.show()\n"
      ]
    },
    {
      "cell_type": "code",
      "execution_count": 17,
      "metadata": {
        "id": "ebZ1bGy4W06y"
      },
      "outputs": [],
      "source": [
        "#Analicemos el efecto de la longitud del paso\n",
        "\n",
        "\n",
        "\n"
      ]
    },
    {
      "cell_type": "markdown",
      "metadata": {
        "id": "MN4nstozZfDi"
      },
      "source": [
        "#### (B) Uso de gradiente descendiente para solucionar un problema de regresion lineal"
      ]
    },
    {
      "cell_type": "code",
      "execution_count": 18,
      "metadata": {
        "id": "LDp4bA8GQ0Ro"
      },
      "outputs": [],
      "source": [
        "# Vamos a generar datos con ruido gaussiano\n",
        "import numpy as np\n",
        "import matplotlib.pyplot as plt\n",
        "\n",
        "\n"
      ]
    },
    {
      "cell_type": "code",
      "execution_count": 19,
      "metadata": {
        "id": "gFgK1lO2OqbG"
      },
      "outputs": [],
      "source": [
        "#Organizamos los datos para realizar el calculo vectorial\n",
        "#Debemos agregar una columna de 1s a los datos\n",
        "\n",
        "\n"
      ]
    },
    {
      "cell_type": "markdown",
      "metadata": {
        "id": "NdgtJaw7ad63"
      },
      "source": [
        "Primero, debemos definir la funcion de costo. En este caso vamos usar el error cuadratico medio como funcion a minimizar:\n",
        "![image.png](data:image/png;base64,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)"
      ]
    },
    {
      "cell_type": "code",
      "execution_count": 20,
      "metadata": {
        "id": "9GujpFoFOJwa"
      },
      "outputs": [
        {
          "ename": "IndentationError",
          "evalue": "expected an indented block (2740436008.py, line 11)",
          "output_type": "error",
          "traceback": [
            "\u001b[0;36m  Cell \u001b[0;32mIn[20], line 11\u001b[0;36m\u001b[0m\n\u001b[0;31m    \u001b[0m\n\u001b[0m    ^\u001b[0m\n\u001b[0;31mIndentationError\u001b[0m\u001b[0;31m:\u001b[0m expected an indented block\n"
          ]
        }
      ],
      "source": [
        "def compute_cost(X, y, theta=np.array([[0],[0]])):\n",
        "    #Determinamos m: numero de muestras\n",
        "\n",
        "    #Organizamos las dimensiones de la solucion\n",
        "\n",
        "    # Calculamos y_hat\n",
        "\n",
        "    # Calculamos el error cuadratico\n",
        "\n",
        "    # Dividimos por 2*m\n",
        "\n"
      ]
    },
    {
      "cell_type": "code",
      "execution_count": 10,
      "metadata": {
        "id": "9nT3zEVycAJg"
      },
      "outputs": [],
      "source": [
        "def gradient_descent(X, y, theta=np.array([[0],[0]]),\n",
        "                    step_size=0.01, n_iter=1500):\n",
        "#Inicializacion de parametros\n",
        "\n",
        "    for i in range(n_iter):\n",
        "        #Calculo de la derivada\n",
        "\n",
        "\n",
        "        #Alctualziacion de theta\n",
        "\n",
        "\n",
        "\n",
        "        #Guardar valores\n",
        "\n",
        "\n",
        "    return (theta, J_history, theta0_history, theta1_history)"
      ]
    },
    {
      "cell_type": "code",
      "execution_count": null,
      "metadata": {
        "id": "iwJQ-nROO3qM"
      },
      "outputs": [],
      "source": [
        "#Prueba de la funcion\n",
        "\n",
        "\n",
        "\n"
      ]
    },
    {
      "cell_type": "code",
      "execution_count": null,
      "metadata": {
        "id": "OVGQsqt2O_AE"
      },
      "outputs": [],
      "source": [
        "#Parametros estimados"
      ]
    },
    {
      "cell_type": "code",
      "execution_count": null,
      "metadata": {
        "id": "6uRQf-6YPBwz"
      },
      "outputs": [],
      "source": [
        "fig, ax1 = plt.subplots()\n",
        "\n",
        "# plot thetas over time\n",
        "color='tab:blue'\n",
        "ax1.plot(theta0_history, label='$\\\\theta_{0}$', linestyle='--', color=color)\n",
        "ax1.plot(theta1_history, label='$\\\\theta_{1}$', linestyle='-', color=color)\n",
        "# ax1.legend()\n",
        "ax1.set_xlabel('Iterations'); ax1.set_ylabel('$\\\\theta$', color=color);\n",
        "ax1.tick_params(axis='y', labelcolor=color)\n",
        "\n",
        "# plot loss function over time\n",
        "color='tab:red'\n",
        "ax2 = ax1.twinx()\n",
        "ax2.plot(J_history, label='Loss function', color=color)\n",
        "ax2.set_title('Values of $\\\\theta$ and $J(\\\\theta)$ over iterations')\n",
        "ax2.set_ylabel('Loss: $J(\\\\theta)$', color=color)\n",
        "ax1.tick_params(axis='y', labelcolor=color)\n",
        "\n",
        "# ax2.legend();\n",
        "fig.legend();"
      ]
    },
    {
      "cell_type": "code",
      "execution_count": null,
      "metadata": {
        "id": "WHnb1aPIfvqw"
      },
      "outputs": [],
      "source": [
        "#Grafica de la funcion lineal estimada\n",
        "plt.scatter(X[:,1],y,c='blue',marker='o')\n",
        "y_vals = theta[1]+theta[0]*X[:,1]\n",
        "plt.plot(X[:,1],y_vals,'--r')"
      ]
    }
  ],
  "metadata": {
    "colab": {
      "provenance": []
    },
    "kernelspec": {
      "display_name": ".venv",
      "language": "python",
      "name": "python3"
    },
    "language_info": {
      "codemirror_mode": {
        "name": "ipython",
        "version": 3
      },
      "file_extension": ".py",
      "mimetype": "text/x-python",
      "name": "python",
      "nbconvert_exporter": "python",
      "pygments_lexer": "ipython3",
      "version": "3.9.6"
    }
  },
  "nbformat": 4,
  "nbformat_minor": 0
}
